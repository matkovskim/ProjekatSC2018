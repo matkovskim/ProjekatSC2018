{
 "cells": [
  {
   "cell_type": "markdown",
   "metadata": {},
   "source": [
    "Marijana Matkovski RA20\\2015"
   ]
  },
  {
   "cell_type": "markdown",
   "metadata": {},
   "source": [
    "# Predefinisani projekat za 60 bodova - ocena 9 i 10"
   ]
  },
  {
   "cell_type": "markdown",
   "metadata": {},
   "source": [
    "Dato je 10 video zapisa, na kojima se nalze po dve poretne linije - plava i zeleina, kao i brojevi koji prolaze kroz video. Potrebno je na svakom video zapisu detektovati plavu i zelenu liniju kao i brojeve koji prolaze. Kada broj pređe preko plave linije, potrebno ga je dodati ukupnoj sumi, a kada broj pređe preko zelene linije potrebno ga je oduzeti od ukupne sume. Glavni koraci rešavanja problema:\n",
    "* Podela video zapisa na frejmove\n",
    "* Proalaženje plave i zelene linije\n",
    "* Detektovanje kontura sa brojevima na snimku\n",
    "* Obučavanje neuronske mreže koja će se koristiti za prepoznavanje brojeva u detektovanim konturama\n",
    "* Praćenje kretanja kontura iz frejma u frejm\n",
    "* Detekcija prelaska brojeva preko linija"
   ]
  },
  {
   "cell_type": "markdown",
   "metadata": {},
   "source": [
    "Na početku uključujemo sve potrebne biblioteke:"
   ]
  },
  {
   "cell_type": "code",
   "execution_count": 1,
   "metadata": {},
   "outputs": [
    {
     "name": "stderr",
     "output_type": "stream",
     "text": [
      "Using TensorFlow backend.\n"
     ]
    }
   ],
   "source": [
    "import warnings\n",
    "warnings.simplefilter(action='ignore', category=FutureWarning)\n",
    "\n",
    "import sys\n",
    "import cv2\n",
    "import numpy as np\n",
    "\n",
    "import scipy\n",
    "from scipy.stats import norm\n",
    "from collections import OrderedDict\n",
    "from scipy.spatial import distance as dist\n",
    "from pathlib import Path  \n",
    "import matplotlib.pyplot as plt  \n",
    "\n",
    "import keras\n",
    "from keras.models import Sequential\n",
    "from keras.layers.core import Dense, Activation\n",
    "from keras import optimizers\n",
    "from keras.datasets import mnist\n",
    "from keras.layers import Dropout  "
   ]
  },
  {
   "cell_type": "markdown",
   "metadata": {},
   "source": [
    "Funkcija pomoću koje pronalazimo početne i krajnje tačke plave ili zelene linije:"
   ]
  },
  {
   "cell_type": "code",
   "execution_count": 2,
   "metadata": {
    "scrolled": false
   },
   "outputs": [],
   "source": [
    "def pronadjiKoordinateLinija(frejm, jePlava):\n",
    "\n",
    "    #radim sa kopijom slike, da mi ne promeni originalnu sliku \n",
    "    #(može doći do greške pri detekciji druge linije ako promenimo sliku prilikom detekcije prve linije)\n",
    "    kopijaSlike = frejm.copy()\n",
    "    \n",
    "    #ako jePlava true trazim plavu liniju, postavljam ostale kanale na 0\n",
    "    if jePlava:\n",
    "        kopijaSlike[:, :, 1] = 0  #postavljamo zeleni kanal slike na 0\n",
    "        kopijaSlike[:, :, 2] = 0  #postavljamo crveni kanal slike na 0\n",
    "    else:\n",
    "        kopijaSlike[:, :, 0] = 0  #postavlja crveni kanal na 0\n",
    "        kopijaSlike[:, :, 2] = 0  #postavlja zeleni kanal na 0\n",
    "    \n",
    "    #potrebno je da poništimo šum (erozija+dilacija) erozija uklanja šum, dilacija vraća originalni oblik  \n",
    "    kernel = cv2.getStructuringElement(cv2.MORPH_ELLIPSE, (5, 5))\n",
    "    kopijaSlike = cv2.erode(kopijaSlike, kernel, iterations=1)\n",
    "    kopijaSlike = cv2.dilate(kopijaSlike, kernel, iterations=1)\n",
    "\n",
    "    #koristimo Canny Edge Detection da detektujemo ivice\n",
    "    if jePlava:\n",
    "        kopijaSlike = cv2.Canny(kopijaSlike, 250, 250)\n",
    "    else:\n",
    "        kopijaSlike = cv2.Canny(kopijaSlike, 200, 200)\n",
    "\n",
    "\n",
    "    #radimo dilaciju da vratimo originalni oblik...\n",
    "    kopijaSlike = cv2.dilate(kopijaSlike, (13,13), iterations=1)\n",
    "\n",
    "    #koristimo houh trensformaciju za pronalaženje linija\n",
    "    #parametri: slika, rho, teta, treshold, minimalna duzina, maksimalna duzina\n",
    "    linije = cv2.HoughLinesP(kopijaSlike, 1, np.pi / 180, 50, None, 180, 50) \n",
    "    \n",
    "    #trazimo srednju vrednost, jer je moguce da smo dobili niz vrednosti\n",
    "    x1 = int(scipy.mean(linije[:,0,0]))\n",
    "    y1 = int(scipy.mean(linije[:,0,1]))\n",
    "    x2 = int(scipy.mean(linije[:,0,2]))\n",
    "    y2 = int(scipy.mean(linije[:,0,3]))\n",
    "\n",
    "    return [x1, y1, x2, y2]"
   ]
  },
  {
   "cell_type": "markdown",
   "metadata": {},
   "source": [
    "Funkcija koja omogućava da promenimo veličinu poslate slike - regiona tako da bude veličine 28x28 piksela - što očekuje neuronska mreža"
   ]
  },
  {
   "cell_type": "code",
   "execution_count": 3,
   "metadata": {},
   "outputs": [],
   "source": [
    "def promeniVelicinuRegiona(region):\n",
    "    return cv2.resize(region,(28,28), interpolation = cv2.INTER_NEAREST)"
   ]
  },
  {
   "cell_type": "markdown",
   "metadata": {},
   "source": [
    "Funkcija koja služi za izdvajanje regiona sa bojevima na slici. Za svaki region pravi posebnu sliku dimenzija 28 x 28. \n",
    "Za označavanje regiona koristiti metodu cv2.boundingRect(kontura). Kao povratnu vrednost vraća niz slika koje predstavljaju regione sortirane po rastućoj vrednosti x ose, kao i niz početnih i krajnjih koordinata izdvojenih regiona, sortirane po rastućoj vrednosti x ose."
   ]
  },
  {
   "cell_type": "code",
   "execution_count": 4,
   "metadata": {
    "scrolled": true
   },
   "outputs": [],
   "source": [
    "def selektujRegione(originalnaSlika, binarnaSlika):\n",
    "    \n",
    "    slika, konture, hijerarhija = cv2.findContours(binarnaSlika.copy(), cv2.RETR_LIST, cv2.CHAIN_APPROX_SIMPLE)\n",
    "    \n",
    "    #lista koja sadrži nizove vrednosti, početna x koordinata, početna y koordinata, krajnja x koordinata, krajnja y koordinata \n",
    "    koordinateNiz = []\n",
    "    # lista sortiranih regiona po rastućim vrednostima x ose\n",
    "    sortiraniRegioni = []\n",
    "    #lista svih regiona\n",
    "    nizRegiona = []\n",
    "    \n",
    "    #prolazimo za svaku kontruru: \n",
    "    for i in range(0, len(konture)):\n",
    "        kontura = konture[i]    \n",
    "        x, y, s, v = cv2.boundingRect(kontura) #vraća x,y koordinatu gornjeg levog ugla, širinu i visinu\n",
    "        povrsina = cv2.contourArea(kontura)\n",
    "        if(v >= 15 and v <= 25) or (s > 10 and v >= 14) and povrsina < 800 and (hijerarhija[0][i][3] == -1):\n",
    "            #kopiramo region sa slike u niz regiona regione\n",
    "            region = binarnaSlika[y:y+v+1, x:x+s+1]\n",
    "            nizRegiona.append([promeniVelicinuRegiona(region), x])       \n",
    "            cv2.rectangle(originalnaSlika, (x-2, y-2), (x+s+2, y+v+2), (0, 0, 255), 2)\n",
    "            koordinateNiz.append([x, y, x+s, y+v])\n",
    "            \n",
    "            #prikaziSliku(originalnaSlika)\n",
    "            \n",
    "    #sortiranje koordinata\n",
    "    koordinateNiz.sort(key=lambda tup: tup[0])\n",
    "    \n",
    "    # sortirati sve regione po x osi (sa leva na desno) i smestiti u promenljivu sorted_regions\n",
    "    nizRegiona = sorted(nizRegiona, key=lambda item: item[1])\n",
    "    sortiraniRegioni = sortiraniRegioni = [region[0] for region in nizRegiona]\n",
    "    \n",
    "    return sortiraniRegioni, koordinateNiz"
   ]
  },
  {
   "cell_type": "markdown",
   "metadata": {},
   "source": [
    "Pomoćne metode za obradu slika"
   ]
  },
  {
   "cell_type": "code",
   "execution_count": 5,
   "metadata": {},
   "outputs": [],
   "source": [
    "def Invertuj(slika):\n",
    "    return 255-slika\n",
    "\n",
    "def pretvoriUSivu(slika):\n",
    "    return cv2.cvtColor(slika, cv2.COLOR_RGB2GRAY)\n",
    "\n",
    "def binarizujSliku(sivaSlika):\n",
    "    visina, sirina = sivaSlika.shape[0:2]\n",
    "    binarnaSlika = np.ndarray((visina, sirina), dtype=np.uint8)\n",
    "    ret, binarnaSlika = cv2.threshold(sivaSlika, 100, 255, cv2.THRESH_BINARY)\n",
    "    return binarnaSlika\n",
    "\n",
    "def prikaziSliku(slika):\n",
    "    plt.imshow(slika)\n",
    "\n",
    "def dilacija(slika):\n",
    "    kernel = np.ones((1,1))\n",
    "    return cv2.dilate(slika, kernel, iterations=15)\n",
    "\n",
    "def erozija(slika):\n",
    "    kernel = np.ones((1,1))\n",
    "    return cv2.erode(slika, kernel, iterations=15)"
   ]
  },
  {
   "cell_type": "markdown",
   "metadata": {},
   "source": [
    "Funkcija koja izdvaja regione sa slike"
   ]
  },
  {
   "cell_type": "code",
   "execution_count": 6,
   "metadata": {},
   "outputs": [],
   "source": [
    "def izdvojRegione(slika):\n",
    "    sl = binarizujSliku(pretvoriUSivu(slika))\n",
    "    binarnaSl =erozija(dilacija(sl))\n",
    "    regioni, kordinate = selektujRegione(slika.copy(), binarnaSl)\n",
    "    return regioni, kordinate"
   ]
  },
  {
   "cell_type": "markdown",
   "metadata": {},
   "source": [
    "Funkcija za obradu slika za treniranje i testiranje neuronske mreže, deo funkcije je preuzet sa:\n",
    "https://codereview.stackexchange.com/questions/132914/crop-black-border-of-image-using-numpy/132934"
   ]
  },
  {
   "cell_type": "code",
   "execution_count": 7,
   "metadata": {},
   "outputs": [],
   "source": [
    "def pretprocesirajUlaze(slike, tolerancija=0):\n",
    "    povratnaVrednost = np.empty([len(slike), 28, 28])\n",
    "    \n",
    "    for i in range(len(slike)):    \n",
    "        slika = slike[i]   \n",
    "        slika = (slika).astype('uint8')\n",
    "        maska = slika>tolerancija\n",
    "        povratnaVrednost[i]=promeniVelicinuRegiona(slika[np.ix_(maska.any(1),maska.any(0))])\n",
    "        \n",
    "    return povratnaVrednost"
   ]
  },
  {
   "cell_type": "markdown",
   "metadata": {},
   "source": [
    "Neuronska mreža, učitavanje težina iz fajla ako on postoji, ili treniranje mreže i upis težina u fajl."
   ]
  },
  {
   "cell_type": "code",
   "execution_count": 8,
   "metadata": {},
   "outputs": [
    {
     "name": "stdout",
     "output_type": "stream",
     "text": [
      "WARNING:tensorflow:From C:\\Users\\Marijana\\Anaconda3\\lib\\site-packages\\tensorflow\\python\\framework\\op_def_library.py:263: colocate_with (from tensorflow.python.framework.ops) is deprecated and will be removed in a future version.\n",
      "Instructions for updating:\n",
      "Colocations handled automatically by placer.\n",
      "WARNING:tensorflow:From C:\\Users\\Marijana\\Anaconda3\\lib\\site-packages\\keras\\backend\\tensorflow_backend.py:3445: calling dropout (from tensorflow.python.ops.nn_ops) with keep_prob is deprecated and will be removed in a future version.\n",
      "Instructions for updating:\n",
      "Please use `rate` instead of `keep_prob`. Rate should be set to `rate = 1 - keep_prob`.\n",
      "_________________________________________________________________\n",
      "Layer (type)                 Output Shape              Param #   \n",
      "=================================================================\n",
      "dense_1 (Dense)              (None, 512)               401920    \n",
      "_________________________________________________________________\n",
      "dropout_1 (Dropout)          (None, 512)               0         \n",
      "_________________________________________________________________\n",
      "dense_2 (Dense)              (None, 512)               262656    \n",
      "_________________________________________________________________\n",
      "dropout_2 (Dropout)          (None, 512)               0         \n",
      "_________________________________________________________________\n",
      "dense_3 (Dense)              (None, 10)                5130      \n",
      "=================================================================\n",
      "Total params: 669,706\n",
      "Trainable params: 669,706\n",
      "Non-trainable params: 0\n",
      "_________________________________________________________________\n",
      "težine su uspešno ucitane...\n"
     ]
    }
   ],
   "source": [
    "neuronskaModel = Sequential()\n",
    "neuronskaModel.add(Dense(512, input_shape=(784,), activation = 'relu'))\n",
    "neuronskaModel.add(Dropout(0.2))\n",
    "neuronskaModel.add(Dense(512, activation = 'relu'))\n",
    "neuronskaModel.add(Dropout(0.2))\n",
    "neuronskaModel.add(Dense(10, activation = 'softmax'))\n",
    "neuronskaModel.summary()\n",
    "\n",
    "#iscitavanje iz fajla tezina ako postoje\n",
    "if Path('snimljeneTezine.hdf5').is_file():\n",
    "    neuronskaModel.load_weights('snimljeneTezine.hdf5')\n",
    "    print('težine su uspešno ucitane...')  \n",
    "#treniranje neuronske mreze i upis tezina u fajl\n",
    "else:\n",
    "    print('Treniranje mreže, fajl sa težinama nije pronađen...')\n",
    "    (XTrening, YTrening), (XTest, YTest) = mnist.load_data()\n",
    "\n",
    "    XTrening = pretprocesirajUlaze(XTrening)\n",
    "    XTest = pretprocesirajUlaze(XTest)\n",
    "\n",
    "    #pretvaranje u niz, me može da prihvati matricu\n",
    "    XTrening = XTrening.reshape(60000, 784) #28*28=784\n",
    "    XTest = XTest.reshape(10000, 784)\n",
    "\n",
    "    #pretrvaranje u vrednosti u opsegu 0-1\n",
    "    XTrening = XTrening.astype('float32')\n",
    "    XTest = XTest.astype('float32')\n",
    "    XTrening /= 255\n",
    "    XTest /= 255\n",
    "    \n",
    "    #pravljenje vektora za verovatnoće, veličine 1x10, imamo 10 mogućih klasa...\n",
    "    YTrening1D = keras.utils.to_categorical(YTrening, 10)\n",
    "    YTest1D = keras.utils.to_categorical(YTest, 10)\n",
    "\n",
    "    rms = keras.optimizers.RMSprop()\n",
    "    neuronskaModel.compile(loss='categorical_crossentropy', optimizer=rms, metrics=[\"accuracy\"])\n",
    "  \n",
    "    #učenje neuronske mreže\n",
    "    neuronskaModel.fit(XTrening, YTrening1D, batch_size=128, epochs=20, verbose=1, validation_data=(XTest, YTest1D))\n",
    "    \n",
    "    #testiranje istrenirane mreže na test skupu podataka\n",
    "    tacnost = neuronskaModel.evaluate(XTest, YTest1D, verbose=1)\n",
    "\n",
    "    print('Tačnost:', tacnost[1])\n",
    "\n",
    "    neuronskaModel.save_weights('snimljeneTezine.hdf5', overwrite=True)"
   ]
  },
  {
   "cell_type": "markdown",
   "metadata": {},
   "source": [
    "Klasa koja nam omogućava praćenje kretanja kontura. Ideja za ovakav način praćenja pronađena je u njavećoj meri na sajtu: https://www.pyimagesearch.com/2018/07/23/simple-object-tracking-with-opencv/"
   ]
  },
  {
   "cell_type": "code",
   "execution_count": 9,
   "metadata": {},
   "outputs": [],
   "source": [
    "class PratilacKontura():\n",
    "    \n",
    "    #konstruktor klase, inicijalizacija polja\n",
    "    def __init__(self, dozvoljenoNestao=60):\n",
    "        self.konture = OrderedDict() #ključ je id objekta, vrednost koordinate centra konture\n",
    "        self.sledeciID = 0\n",
    "        self.koordinate = OrderedDict()        \n",
    "        self.nestaleKonture = OrderedDict()\n",
    "        self.dozvoljenoNestao = dozvoljenoNestao\n",
    "\n",
    "    #metoda za dodavanje konture koja se prati, dodaje je u rečnik, povecava sledeci id,\n",
    "    #postavlja da nije nestala ni jednom, postavlja koordinate na vrednost prosleđenu kao parametar\n",
    "    def dodajKonturu(self, centar, koordinate):\n",
    "        self.konture[self.sledeciID] = centar\n",
    "        self.nestaleKonture[self.sledeciID] = 0\n",
    "        self.koordinate[self.sledeciID] = koordinate\n",
    "        self.sledeciID += 1\n",
    "\n",
    "    #metoda za brisanje konture koja se prati, brise konturu iz rečnika kontura, brise je iz rečnika nestalih,\n",
    "    #brise njene koordinate iz rečnika koordinata\n",
    "    def obrisiKonturu(self, objekatID):\n",
    "        del self.konture[objekatID]\n",
    "        del self.nestaleKonture[objekatID]\n",
    "        del self.koordinate[objekatID]\n",
    "\n",
    "    def azurirajKonture(self, ulazneKonture):\n",
    "        #provera da li je lista proslednjenih kontura prazna\n",
    "        if len(ulazneKonture) == 0:\n",
    "            #svim postojećim konturama povećava broj koliko puta su nestale, ako je neka od kontura dostigla\n",
    "            #maksimalan broj koliko frejmova sme da nestane,brišemo je iz rečnika kontura \n",
    "            for objekatID in self.nestaleKonture.keys():\n",
    "                self.nestaleKonture[objekatID] += 1\n",
    "                if self.nestaleKonture[objekatID] > self.dozvoljenoNestao: \n",
    "                    self.obrisiKonturu(objekatID)\n",
    "            #vraća rečnik kontua i rečnik koordinata\n",
    "            return (self.konture, self.koordinate)\n",
    "\n",
    "        #inicijalizacija niza za centre ulaznih kontura tekućeg frejma\n",
    "        nizCentaraUlaznihKontura = np.zeros((len(ulazneKonture), 2), dtype=\"int\")\n",
    "\n",
    "        #prolazimo kroz svaku ulaznu konturu, uzimamo njene koordinate, prinalazimo njen centar i ubacujemo ga u niz\n",
    "        for (i, (pocetnoX, pocetnoY, krajnjeX, krajnjeY)) in enumerate(ulazneKonture):\n",
    "            cenatrX = int((pocetnoX + krajnjeX) / 2.0)\n",
    "            centarY = int((pocetnoY + krajnjeY) / 2.0)\n",
    "            nizCentaraUlaznihKontura[i] = (cenatrX, centarY)\n",
    "      \n",
    "        #ako nam je trenutno rečnik kontura prazan, sve konture sa ulaznog frejma dodajemo...\n",
    "        if len(self.konture) == 0:\n",
    "            for i in range(0, len(ulazneKonture)):\n",
    "                self.dodajKonturu(nizCentaraUlaznihKontura[i], ulazneKonture[i])\n",
    "\n",
    "        #ako trenutno pratimo neke konture, potrebno je da pokušamo da povežemo konture koje nam\n",
    "        #dolaze sa frejma, sa konturama koje već pratimo\n",
    "        else:\n",
    "            objekatIDLista = list(self.konture.keys())\n",
    "            centriObjekataLista = list(self.konture.values())\n",
    "\n",
    "            #pronalazimo euklidsko rastojanje između svih parova postojećih kontura i zlaznih kontura\n",
    "            #sa ciljem da vidimo da li je neka od kontura postojala na prethodnim frejmovima\n",
    "            D = dist.cdist(np.array(centriObjekataLista), nizCentaraUlaznihKontura)\n",
    "\n",
    "            #pronalazimo red sa najmanjom vrednošću, a zatim sortiramo indekse redova po vrednosti, \n",
    "            #tako da prvi indeks bude indeks reda sa najmanjom vrednošću\n",
    "            redovi = D.min(axis=1).argsort()\n",
    "\n",
    "            #pronalazimo najmanju vrednost u svakoj koloni, a zatim sortiramo kolone koje se\n",
    "            #ne nalaze u već ne iskorišćenim redovima\n",
    "            kolone = D.argmin(axis=1)[redovi]\n",
    "\n",
    "            #pravimo setove za indekse redova i kolona koje smo već iskoristili.\n",
    "            korisceniRedovi = set()\n",
    "            korisceneKolone = set()\n",
    "\n",
    "            #iteriramo kroz kombinaceije indeksa redova i kolona (torke)\n",
    "            for (red, kolona) in zip(redovi, kolone):\n",
    "                #ako smo već iskoristili taj red ili kolonu nastavljamo dalje\n",
    "                if red in korisceniRedovi or kolona in korisceneKolone:\n",
    "                    continue\n",
    "\n",
    "                #pronašli smo ulaznu konturu sa najmanjim euklidskim rastojanjem od postojeće konture,\n",
    "                # ažuriramo kordinate konture\n",
    "                objekatID = objekatIDLista[red]\n",
    "                self.konture[objekatID] = nizCentaraUlaznihKontura[kolona]\n",
    "                self.nestaleKonture[objekatID] = 0\n",
    "                self.koordinate[objekatID] = ulazneKonture[kolona]\n",
    "\n",
    "                #dodati indekse reda i kolona u liste iskorišćenih\n",
    "                korisceniRedovi.add(red)\n",
    "                korisceneKolone.add(kolona)\n",
    "\n",
    "            #pronalazimo indekse neiskorišćenih redova i kolona\n",
    "            neiskorisceniRedovi = set(range(0, D.shape[0])).difference(korisceniRedovi)\n",
    "            neiskorisceneKolone = set(range(0, D.shape[1])).difference(korisceneKolone)\n",
    "\n",
    "            #ako je broj kontura koji pratimo veći ili jednak od broja kontura na ulaznom frejmu\n",
    "            #proveravamo da li je neka od kontura nestala, ako jeste povećavamo joj broj frejmova \n",
    "            #koliko je netsala i u slućaju potrebe brišemo je\n",
    "            if D.shape[0] >= D.shape[1]:\n",
    "                # prolazimo kroz neiskorišćene redove\n",
    "                for red in neiskorisceniRedovi:\n",
    "                    objekatID = objekatIDLista[red]\n",
    "                    self.nestaleKonture[objekatID] += 1\n",
    "\n",
    "                    if self.nestaleKonture[objekatID] > self.dozvoljenoNestao:\n",
    "                        self.obrisiKonturu(objekatID)\n",
    "            \n",
    "            #ako je broj kontura na trenutnom frejmu veći od broja kontura koje trenutno pratimo,\n",
    "            #potrebno je dodati nove konture u rečnik\n",
    "            else:\n",
    "                for kolona in neiskorisceneKolone:\n",
    "                    self.dodajKonturu(nizCentaraUlaznihKontura[kolona], ulazneKonture[kolona])\n",
    "\n",
    "        #vraća rečnik kontua i rečnik koordinata\n",
    "        return (self.konture, self.koordinate)"
   ]
  },
  {
   "cell_type": "markdown",
   "metadata": {},
   "source": [
    "Funkcije koje služe za obradu slika koje ulaze u neuronsku mrežu, da budu što sličnije slikama iz trening skupa"
   ]
  },
  {
   "cell_type": "code",
   "execution_count": 10,
   "metadata": {},
   "outputs": [],
   "source": [
    "def pretvoriUVektor(slika):\n",
    "    return slika.flatten()\n",
    "\n",
    "def skalirajElementeMatrice(slika):\n",
    "    return slika/255\n",
    "\n",
    "def pripremiZaNeuronsku (region):\n",
    "    regionNadKojimRadim=region.copy()\n",
    "    \n",
    "    #radim eroziju i dilaciju kako bih što bolje pripremila brojeve, da na primer ne prepozna 3 a treba 8...\n",
    "    kernel = cv2.getStructuringElement(cv2.MORPH_ELLIPSE, (3, 3))\n",
    "    regionNadKojimRadim = cv2.dilate(regionNadKojimRadim, kernel, iterations=1)\n",
    "    regionNadKojimRadim = cv2.erode(regionNadKojimRadim, kernel, iterations=1)\n",
    "    \n",
    "    skaliranaSlika = skalirajElementeMatrice(regionNadKojimRadim)\n",
    "    return pretvoriUVektor(skaliranaSlika)"
   ]
  },
  {
   "cell_type": "markdown",
   "metadata": {},
   "source": [
    "Funkcija koja ispisuje brojeve koje je neuronska mreža pronašla"
   ]
  },
  {
   "cell_type": "code",
   "execution_count": 11,
   "metadata": {},
   "outputs": [],
   "source": [
    "def brojIzNeuronske(dobijeniIzlaz):\n",
    "    for izlaz in dobijeniIzlaz:\n",
    "        izlaz = izlaz.reshape(1,10)\n",
    "        broj = int(np.argmax(izlaz))    \n",
    "    return broj"
   ]
  },
  {
   "cell_type": "markdown",
   "metadata": {},
   "source": [
    "Funkcija koja proverava da li kontura dodiruje liniju"
   ]
  },
  {
   "cell_type": "code",
   "execution_count": 12,
   "metadata": {},
   "outputs": [],
   "source": [
    "def gazimLiLiniju(x1, y1, x2, y2, xstart, ystart, xend, yend, brojFrejma):\n",
    "    \n",
    "    p1 = np.array([x1, y1])\n",
    "    p2 = np.array([x2, y2])\n",
    "    p3 = np.array([xend, yend])\n",
    "    rastojanje = abs(np.cross(p2-p1, p3-p1)/np.linalg.norm(p2-p1))\n",
    "    \n",
    "    #p4 mi je za gornji levi ugao (npr zbog prvog broja na poslednjem videu)\n",
    "    #p4 = np.array([xstart, ystart])\n",
    "    #rastojanjeGornjaTackaLinija = abs(np.cross(p2-p1, p4-p1)/np.linalg.norm(p2-p1))\n",
    "    \n",
    "    #if rastojanjeGornjaTackaLinija < 0.4 and x1 < xend and x2 > xstart:\n",
    "    #    return True\n",
    "    if (rastojanje < 3) and x1 < xend and x2 > xstart:   \n",
    "        return True\n",
    "    return False"
   ]
  },
  {
   "cell_type": "markdown",
   "metadata": {},
   "source": [
    "Funkcija koja služi za upis rezultata testiranja u out.txt fajl\n"
   ]
  },
  {
   "cell_type": "code",
   "execution_count": 13,
   "metadata": {},
   "outputs": [],
   "source": [
    "def upisRezultata(rezultati):\n",
    "    fajl = open('out.txt', 'w')\n",
    "    fajl.write('RA20/2015 Marijana Matkovski\\nfile\\tsum\\n')\n",
    "    for i in range(0, len(rezultati)):\n",
    "        fajl.write('video-' + str(i) + '.avi\\t' + str(rezultati[i]) + '\\n')\n",
    "    fajl.close()"
   ]
  },
  {
   "cell_type": "markdown",
   "metadata": {},
   "source": [
    "Deo odakle pozivam sve ostale funkcije i svu obradu. Nešto nalik na main funkciju."
   ]
  },
  {
   "cell_type": "code",
   "execution_count": 14,
   "metadata": {
    "scrolled": true
   },
   "outputs": [
    {
     "name": "stdout",
     "output_type": "stream",
     "text": [
      "Obrađujem video broj 0...\n",
      "konacna suma je:\n",
      "-26\n",
      "***************************\n",
      "Obrađujem video broj 1...\n",
      "konacna suma je:\n",
      "-18\n",
      "***************************\n",
      "Obrađujem video broj 2...\n",
      "konacna suma je:\n",
      "4\n",
      "***************************\n",
      "Obrađujem video broj 3...\n",
      "konacna suma je:\n",
      "-62\n",
      "***************************\n",
      "Obrađujem video broj 4...\n",
      "konacna suma je:\n",
      "-40\n",
      "***************************\n",
      "Obrađujem video broj 5...\n",
      "konacna suma je:\n",
      "17\n",
      "***************************\n",
      "Obrađujem video broj 6...\n",
      "konacna suma je:\n",
      "-67\n",
      "***************************\n",
      "Obrađujem video broj 7...\n",
      "konacna suma je:\n",
      "24\n",
      "***************************\n",
      "Obrađujem video broj 8...\n",
      "konacna suma je:\n",
      "-8\n",
      "***************************\n",
      "Obrađujem video broj 9...\n",
      "konacna suma je:\n",
      "29\n",
      "***************************\n"
     ]
    }
   ],
   "source": [
    "plusRecnik=OrderedDict()\n",
    "minusRecnik=OrderedDict()\n",
    "nizSuma=[]\n",
    "\n",
    "pk = PratilacKontura()\n",
    "\n",
    "#za svaki video\n",
    "for broj_videa in range(0, 10):\n",
    "    suma=0\n",
    "    plusRecnik.clear()\n",
    "    minusRecnik.clear()\n",
    "    \n",
    "    video = cv2.VideoCapture('video-'+str(broj_videa)+'.avi')\n",
    "    print('Obrađujem video broj '+ str(broj_videa)+'...')\n",
    "    uspesnoUcitano, ucitaniFrejm = video.read()\n",
    "    brojFrejma=0\n",
    "\n",
    "    while uspesnoUcitano:\n",
    "        if uspesnoUcitano:\n",
    "            \n",
    "            brojFrejma+=1\n",
    "            \n",
    "            #pronalazenje linija za svaki frejm, jer je navedeno u formulaciji da su linije pokretne...\n",
    "            x1plava, y1plava, x2plava, y2plava = pronadjiKoordinateLinija(ucitaniFrejm, True)\n",
    "            x1zelena, y1zelena, x2zelena, y2zelena = pronadjiKoordinateLinija(ucitaniFrejm, False)\n",
    "            \n",
    "            regioni, koordinate = izdvojRegione(ucitaniFrejm)\n",
    "\n",
    "            objektiMapa, koordinateMapa = pk.azurirajKonture(koordinate)\n",
    "\n",
    "            identifikatori = list(koordinateMapa.keys())\n",
    "\n",
    "            for objekatID in identifikatori:\n",
    "\n",
    "                (xpocetak, ypocetak, xkraj, ykraj) = koordinateMapa[objekatID]\n",
    "\n",
    "                if objekatID not in plusRecnik:\n",
    "\n",
    "                    if gazimLiLiniju(x1plava, y1plava, x2plava, y2plava, xpocetak, ypocetak, xkraj, ykraj, brojFrejma):\n",
    "                        #print('GAZIM PLAVU')\n",
    "                        \n",
    "                        indeks=-1\n",
    "                        for i in (range(0, len(koordinate))):\n",
    "                            if koordinate[i][0] == xpocetak and koordinate[i][1] == ypocetak:\n",
    "                                indeks=i\n",
    "                                break\n",
    "\n",
    "                        ulazUNeuronsku = pripremiZaNeuronsku(regioni[indeks])\n",
    "                        rezultat = neuronskaModel.predict(np.array([ulazUNeuronsku]))\n",
    "                        broj=brojIzNeuronske(rezultat)\n",
    "                        #print('ja sam:')\n",
    "                        #print(broj)\n",
    "                        plusRecnik[objekatID]=broj\n",
    "\n",
    "                if objekatID not in minusRecnik:\n",
    "                    if gazimLiLiniju(x1zelena, y1zelena, x2zelena, y2zelena, xpocetak, ypocetak, xkraj, ykraj, brojFrejma):\n",
    "                        #print('GAZIM ZELENU')\n",
    "                        \n",
    "                        indeks=-1\n",
    "                        for i in (range(0, len(koordinate))):\n",
    "                            if koordinate[i][0] == xpocetak and koordinate[i][1] == ypocetak:\n",
    "                                indeks=i\n",
    "                                break\n",
    "                                \n",
    "                        ulazUNeuronsku = pripremiZaNeuronsku(regioni[indeks])\n",
    "                        rezultat = neuronskaModel.predict(np.array([ulazUNeuronsku]))\n",
    "                        broj=brojIzNeuronske(rezultat)\n",
    "                        #print('ja sam:')\n",
    "                        #print(broj)\n",
    "                        minusRecnik[objekatID]=broj\n",
    "        \n",
    "        uspesnoUcitano, ucitaniFrejm = video.read()\n",
    "        \n",
    "\n",
    "    for idObjekta in plusRecnik:\n",
    "        if idObjekta not in minusRecnik:\n",
    "            suma+=plusRecnik[idObjekta]\n",
    "\n",
    "    for idObjekta in minusRecnik:\n",
    "        if idObjekta not in plusRecnik:\n",
    "            suma-=minusRecnik[idObjekta]\n",
    "            \n",
    "    nizSuma.append(suma)\n",
    "    print('konacna suma je:')\n",
    "    print(suma)\n",
    "    print('***************************')\n",
    "                    \n",
    "upisRezultata(nizSuma)"
   ]
  },
  {
   "cell_type": "markdown",
   "metadata": {},
   "source": [
    "Skripta koja nam je data kao deo zadatka i služi za računanje tačnosti"
   ]
  },
  {
   "cell_type": "code",
   "execution_count": 15,
   "metadata": {},
   "outputs": [
    {
     "name": "stdout",
     "output_type": "stream",
     "text": [
      "['RA20/2015 Marijana Matkovski']\n",
      "Procenat tacnosti:\t77.71084337349397\n",
      "Ukupno:\t10\n"
     ]
    }
   ],
   "source": [
    "res = []\n",
    "n = 0\n",
    "with open('res.txt') as file:\n",
    "    data = file.read()\n",
    "    lines = data.split('\\n')\n",
    "    for id, line in enumerate(lines):\n",
    "        if(id>0):\n",
    "            cols = line.split('\\t')\n",
    "            if(cols[0] == ''):\n",
    "                continue\n",
    "            cols[1] = cols[1].replace('\\r', '')\n",
    "            res.append(float(cols[1]))\n",
    "            n += 1\n",
    "\n",
    "correct = 0\n",
    "student = []\n",
    "student_results = []\n",
    "with open(\"out.txt\") as file:\n",
    "    data = file.read()\n",
    "    lines = data.split('\\n')\n",
    "    for id, line in enumerate(lines):\n",
    "        cols = line.split('\\t')\n",
    "        if(cols[0] == ''):\n",
    "            continue\n",
    "        if(id==0):\n",
    "            student = cols  \n",
    "        elif(id>1):\n",
    "            cols[1] = cols[1].replace('\\r', '')\n",
    "            student_results.append(float(cols[1]))\n",
    "\n",
    "diff = 0\n",
    "for index, res_col in enumerate(res):\n",
    "    diff += abs(res_col - student_results[index])\n",
    "percentage = 100 - abs(diff/sum(res))*100\n",
    "\n",
    "print (student)\n",
    "print ('Procenat tacnosti:\\t'+str(percentage))\n",
    "print ('Ukupno:\\t'+str(n))\n"
   ]
  }
 ],
 "metadata": {
  "kernelspec": {
   "display_name": "Python 3",
   "language": "python",
   "name": "python3"
  },
  "language_info": {
   "codemirror_mode": {
    "name": "ipython",
    "version": 3
   },
   "file_extension": ".py",
   "mimetype": "text/x-python",
   "name": "python",
   "nbconvert_exporter": "python",
   "pygments_lexer": "ipython3",
   "version": "3.6.5"
  }
 },
 "nbformat": 4,
 "nbformat_minor": 2
}
